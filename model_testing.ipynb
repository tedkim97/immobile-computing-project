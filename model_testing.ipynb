{
 "cells": [
  {
   "cell_type": "code",
   "execution_count": 1,
   "metadata": {},
   "outputs": [],
   "source": [
    "import numpy as np\n",
    "import os\n",
    "import sys\n",
    "import re "
   ]
  },
  {
   "cell_type": "code",
   "execution_count": 2,
   "metadata": {},
   "outputs": [],
   "source": [
    "import gaitnet\n",
    "import classifier as cf\n",
    "import torch\n",
    "import torch.nn as nn\n",
    "import torch.nn.functional as F\n",
    "import torch.optim as optim\n",
    "from torch.utils.data import DataLoader\n",
    "from torch.utils.data import sampler"
   ]
  },
  {
   "cell_type": "code",
   "execution_count": 3,
   "metadata": {},
   "outputs": [],
   "source": [
    "SENSOR_DIR = \"data/mobile_data/\"\n",
    "files = [(SENSOR_DIR + x) for x in os.listdir(SENSOR_DIR)]"
   ]
  },
  {
   "cell_type": "code",
   "execution_count": 4,
   "metadata": {},
   "outputs": [],
   "source": [
    "name_filter = set(['ted','ausar','april'])\n",
    "name_ind = {'ted':0, 'ausar':1, 'april':2}\n",
    "ind_name = {0:'ted', 1:'ausar', 2:'april'}"
   ]
  },
  {
   "cell_type": "code",
   "execution_count": 5,
   "metadata": {},
   "outputs": [],
   "source": [
    "test, label = cf.preprocess_csv(files[0], name_filter, name_ind)\n",
    "print(test.shape, label)"
   ]
  },
  {
   "cell_type": "code",
   "execution_count": 6,
   "metadata": {},
   "outputs": [
    {
     "name": "stdout",
     "output_type": "stream",
     "text": [
      "(15, 3) (89,) (89,)\n"
     ]
    }
   ],
   "source": [
    "features, labels = cf.generate_features(SENSOR_DIR, name_filter, name_ind)\n",
    "print(features[0].shape, features.shape, labels.shape)"
   ]
  },
  {
   "cell_type": "code",
   "execution_count": 7,
   "metadata": {},
   "outputs": [
    {
     "name": "stdout",
     "output_type": "stream",
     "text": [
      "torch.Size([13, 1, 3]) torch.Size([79, 13, 1, 3]) (79,)\n"
     ]
    }
   ],
   "source": [
    "features, labels = cf.reduce_feature_shape(features, labels, 13)\n",
    "rand_ind = np.random.permutation(len(features))\n",
    "features = torch.tensor(features).unsqueeze(2)\n",
    "dataX, dataY = features[rand_ind], labels[rand_ind]\n",
    "print(features[0].shape, features.shape, labels.shape)"
   ]
  },
  {
   "cell_type": "code",
   "execution_count": 8,
   "metadata": {},
   "outputs": [
    {
     "data": {
      "text/plain": [
       "torch.Size([13, 1, 3])"
      ]
     },
     "execution_count": 8,
     "metadata": {},
     "output_type": "execute_result"
    }
   ],
   "source": [
    "features[0].shape"
   ]
  },
  {
   "cell_type": "code",
   "execution_count": 9,
   "metadata": {},
   "outputs": [],
   "source": [
    "gr = gaitnet.gaitAccelNet(n_people=3)\n",
    "test = features[0].unsqueeze(0).float()\n",
    "test_out = gr.forward(test)\n",
    "# print(test.shape, test_out)"
   ]
  },
  {
   "cell_type": "code",
   "execution_count": 10,
   "metadata": {},
   "outputs": [],
   "source": [
    "test2 = torch.cat([features[0].unsqueeze(0), features[1].unsqueeze(0)], 0).float()\n",
    "test_out2 = gr.forward(test2)\n",
    "# print(test_out2.shape, test_out2)"
   ]
  },
  {
   "cell_type": "code",
   "execution_count": 11,
   "metadata": {},
   "outputs": [],
   "source": [
    "def train(data, model,optimizer,save_path,device='cpu',batch_size=2,epochs=1):\n",
    "#     print(\"Starting the training process\")\n",
    "    features, labels = data\n",
    "    datax = features.float()\n",
    "    datay = torch.tensor(labels).long()\n",
    "    \n",
    "    model.train()\n",
    "    \n",
    "    model = model.to(device=device)\n",
    "    loss_fcn = nn.CrossEntropyLoss()\n",
    "    \n",
    "    for e in range(epochs):\n",
    "        for ind in range(len(datay)//batch_size):\n",
    "            x = datax[ind*batch_size:(ind+1)*batch_size]\n",
    "            y = datay[ind*batch_size:(ind+1)*batch_size]\n",
    "            x, y = x.to(device), y.to(device)\n",
    "            \n",
    "            prediction = model(x)\n",
    "#             print(prediction.shape, y.shape)\n",
    "#             print(prediction, y)\n",
    "            if (batch_size == 1):\n",
    "                prediction = prediction.unsqueeze(0)\n",
    "            loss = loss_fcn(prediction, y)\n",
    "            optimizer.zero_grad()\n",
    "            loss.backward()\n",
    "            optimizer.step()\n",
    "#         if(e % 10 == 0):\n",
    "#             print(\"at epoch {}\".format(e))\n",
    "        \n",
    "    torch.save(model, save_path)\n",
    "    return model"
   ]
  },
  {
   "cell_type": "code",
   "execution_count": 12,
   "metadata": {},
   "outputs": [],
   "source": [
    "def validate(features, labels, trained_model):\n",
    "    correct = 0\n",
    "    trained_model.eval()\n",
    "    for ind in range(len(labels)):\n",
    "        test_ind = torch.tensor(labels[ind]) \n",
    "        ground_truth = labels[test_ind]\n",
    "        tens = torch.tensor(features[test_ind]).unsqueeze(0).float()\n",
    "        probs = F.softmax(trained_model.forward(tens), dim=0)\n",
    "        prob_val, prob_ind = torch.max(probs, 0)\n",
    "#         print(prob_ind, test_ind.long())\n",
    "        if(prob_ind == test_ind.long()):\n",
    "            correct += 1 \n",
    "        \n",
    "    return float(correct/len(labels)) * 100"
   ]
  },
  {
   "cell_type": "code",
   "execution_count": 13,
   "metadata": {},
   "outputs": [],
   "source": [
    "def train_test_split(data, train_prop):\n",
    "    dataX, dataY = data\n",
    "    rand_ind = np.random.permutation(len(dataY))\n",
    "    cutoff = int(len(dataY)*train_prop)\n",
    "    \n",
    "    model = gaitnet.gaitAccelNet(n_people=3)\n",
    "    optimizer = optim.SGD(model.parameters(), lr = 1e-4, momentum=0.05)\n",
    "    bmpath = \"besh.pth\"\n",
    "    \n",
    "    trainX, trainY = dataX[cutoff:], dataY[cutoff:]\n",
    "    valX, valY = dataX[:cutoff], dataY[:cutoff]\n",
    "    \n",
    "    train([trainX, trainY], model, optimizer,bmpath, batch_size=1, epochs=50)\n",
    "    \n",
    "    acc = validate(valX, valY, model)\n",
    "    return acc"
   ]
  },
  {
   "cell_type": "code",
   "execution_count": 14,
   "metadata": {},
   "outputs": [
    {
     "name": "stdout",
     "output_type": "stream",
     "text": [
      "Number of points = 79\n"
     ]
    },
    {
     "name": "stderr",
     "output_type": "stream",
     "text": [
      "c:\\program files\\python37\\lib\\site-packages\\ipykernel_launcher.py:7: UserWarning: To copy construct from a tensor, it is recommended to use sourceTensor.clone().detach() or sourceTensor.clone().detach().requires_grad_(True), rather than torch.tensor(sourceTensor).\n",
      "  import sys\n"
     ]
    },
    {
     "data": {
      "text/plain": [
       "0.0"
      ]
     },
     "execution_count": 14,
     "metadata": {},
     "output_type": "execute_result"
    }
   ],
   "source": [
    "model = gaitnet.gaitAccelNet(n_people=3)\n",
    "optimizer = optim.SGD(model.parameters(), lr = 1e-4, momentum=0.05)\n",
    "bmpath = \"besh.pth\"\n",
    "\n",
    "print(\"Number of points = {}\".format(len(dataY)))\n",
    "tmod = train([dataX, dataY], model, optimizer, bmpath, batch_size=2, epochs=30)\n",
    "validate(dataX[:len(dataY)//2], dataY[:len(dataY)//2], tmod)"
   ]
  },
  {
   "cell_type": "code",
   "execution_count": 18,
   "metadata": {},
   "outputs": [
    {
     "name": "stdout",
     "output_type": "stream",
     "text": [
      "gaitAccelNet(\n",
      "  (conv1): Conv2d(13, 52, kernel_size=(1, 1), stride=(1, 1))\n",
      "  (conv2): Conv2d(52, 104, kernel_size=(1, 3), stride=(1, 1))\n",
      "  (pool): MaxPool2d(kernel_size=1, stride=1, padding=0, dilation=1, ceil_mode=False)\n",
      "  (fc1): Linear(in_features=104, out_features=10, bias=True)\n",
      "  (fc2): Linear(in_features=10, out_features=3, bias=True)\n",
      ")\n"
     ]
    }
   ],
   "source": [
    "print(tmod)"
   ]
  },
  {
   "cell_type": "code",
   "execution_count": 15,
   "metadata": {},
   "outputs": [
    {
     "name": "stderr",
     "output_type": "stream",
     "text": [
      "c:\\program files\\python37\\lib\\site-packages\\ipykernel_launcher.py:7: UserWarning: To copy construct from a tensor, it is recommended to use sourceTensor.clone().detach() or sourceTensor.clone().detach().requires_grad_(True), rather than torch.tensor(sourceTensor).\n",
      "  import sys\n"
     ]
    },
    {
     "data": {
      "text/plain": [
       "34.92063492063492"
      ]
     },
     "execution_count": 15,
     "metadata": {},
     "output_type": "execute_result"
    }
   ],
   "source": [
    "train_test_split([dataX, dataY], 0.8)"
   ]
  },
  {
   "cell_type": "code",
   "execution_count": 16,
   "metadata": {
    "scrolled": false
   },
   "outputs": [],
   "source": [
    "# import matplotlib.pyplot as plt\n",
    "# accuracies = []\n",
    "# for _ in range(50):\n",
    "#     accuracies.append(train_test_split([dataX, dataY], 0.8))\n",
    "\n",
    "# print(\"average accuracy = \", np.mean(np.array(accuracies)))    \n",
    "\n",
    "# num_bins = 7\n",
    "# n, bins, patches = plt.hist(accuracies, num_bins, facecolor='blue', alpha=0.5)\n",
    "# plt.show()"
   ]
  },
  {
   "cell_type": "code",
   "execution_count": 17,
   "metadata": {},
   "outputs": [],
   "source": [
    "loaded_model = gaitnet.gaitAccelNet(n_people=3)\n",
    "loaded_model = torch.load(bmpath)"
   ]
  }
 ],
 "metadata": {
  "kernelspec": {
   "display_name": "Python 3",
   "language": "python",
   "name": "python3"
  },
  "language_info": {
   "codemirror_mode": {
    "name": "ipython",
    "version": 3
   },
   "file_extension": ".py",
   "mimetype": "text/x-python",
   "name": "python",
   "nbconvert_exporter": "python",
   "pygments_lexer": "ipython3",
   "version": "3.7.4"
  }
 },
 "nbformat": 4,
 "nbformat_minor": 2
}
